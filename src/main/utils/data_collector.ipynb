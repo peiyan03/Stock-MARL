{
 "cells": [
  {
   "cell_type": "code",
   "execution_count": 1,
   "id": "initial_id",
   "metadata": {
    "collapsed": true,
    "ExecuteTime": {
     "end_time": "2024-12-07T19:30:19.144154600Z",
     "start_time": "2024-12-07T19:30:15.395822800Z"
    }
   },
   "outputs": [],
   "source": [
    "import matplotlib.pyplot as plt\n",
    "import pandas as pd\n",
    "import yfinance as yf"
   ]
  },
  {
   "cell_type": "code",
   "outputs": [],
   "source": [
    "# The list of ticker symbols\n",
    "tickers = ['AAPL', 'META', 'XOM', 'V']\n",
    "\n",
    "# Set the start and end dates\n",
    "start_date = '2014-12-04'\n",
    "end_date = '2024-12-01'"
   ],
   "metadata": {
    "collapsed": false,
    "ExecuteTime": {
     "end_time": "2024-12-07T19:30:19.152497200Z",
     "start_time": "2024-12-07T19:30:19.145156500Z"
    }
   },
   "id": "3b7f22b2dbbb95bb",
   "execution_count": 2
  },
  {
   "cell_type": "code",
   "outputs": [
    {
     "name": "stderr",
     "output_type": "stream",
     "text": [
      "[*********************100%***********************]  4 of 4 completed\n"
     ]
    }
   ],
   "source": [
    "stock_data = yf.download(tickers, start=start_date, end=end_date)\n",
    "\n",
    "# Save to CSV\n",
    "stock_data.to_csv('../resources/datasets/stockdata_V1.csv')"
   ],
   "metadata": {
    "collapsed": false,
    "ExecuteTime": {
     "end_time": "2024-12-07T19:33:20.264884600Z",
     "start_time": "2024-12-07T19:33:19.958954900Z"
    }
   },
   "id": "2073dbbad23adbca",
   "execution_count": 7
  },
  {
   "cell_type": "code",
   "outputs": [],
   "source": [
    "train_start = '2014-12-04'\n",
    "train_end = '2021-12-01'\n",
    "val_start = '2021-12-02'\n",
    "val_end = '2023-06-01'\n",
    "test_start = '2023-06-02'\n",
    "test_end = '2024-12-01'\n",
    "\n",
    "# Split Train, Validate and Test\n",
    "train_data = stock_data.loc[train_start:train_end]\n",
    "val_data = stock_data.loc[val_start:val_end]\n",
    "test_data = stock_data.loc[test_start:test_end]"
   ],
   "metadata": {
    "collapsed": false,
    "ExecuteTime": {
     "end_time": "2024-12-07T19:34:41.466528900Z",
     "start_time": "2024-12-07T19:34:41.450514700Z"
    }
   },
   "id": "7fdfee4b0dbff855",
   "execution_count": 8
  },
  {
   "cell_type": "code",
   "outputs": [
    {
     "name": "stdout",
     "output_type": "stream",
     "text": [
      "Training Data: (1761, 24)\n",
      "Validation Data: (376, 24)\n",
      "Testing Data: (377, 24)\n"
     ]
    }
   ],
   "source": [
    "print(\"Training Data:\", train_data.shape)\n",
    "print(\"Validation Data:\", val_data.shape)\n",
    "print(\"Testing Data:\", test_data.shape)"
   ],
   "metadata": {
    "collapsed": false,
    "ExecuteTime": {
     "end_time": "2024-12-07T19:35:34.001848500Z",
     "start_time": "2024-12-07T19:35:33.985671300Z"
    }
   },
   "id": "45aa39b60e154138",
   "execution_count": 10
  },
  {
   "cell_type": "code",
   "outputs": [],
   "source": [
    "train_data.to_csv('../resources/datasets/train_dataV1.csv')\n",
    "val_data.to_csv('../resources/datasets/val_dataV1.csv')\n",
    "test_data.to_csv('../resources/datasets/test_dataV1.csv')"
   ],
   "metadata": {
    "collapsed": false,
    "ExecuteTime": {
     "end_time": "2024-12-07T19:35:59.392759600Z",
     "start_time": "2024-12-07T19:35:59.284110500Z"
    }
   },
   "id": "3e7d8aeab433032",
   "execution_count": 12
  },
  {
   "cell_type": "code",
   "outputs": [
    {
     "name": "stdout",
     "output_type": "stream",
     "text": [
      "  Ticker  Total Days  Average Volume  Total Volume\n",
      "0   AAPL        2514    1.182028e+08  297161753000\n",
      "1   META        2514    2.298025e+07   57772339600\n",
      "2    XOM        2514    1.747274e+07   43926468700\n",
      "3      V        2514    8.130498e+06   20440072600\n"
     ]
    }
   ],
   "source": [
    "summary_table = []\n",
    "\n",
    "# Generate summary statistics for each stock\n",
    "for ticker in tickers:\n",
    "    adj_close = stock_data['Adj Close'][ticker]\n",
    "    volume = stock_data['Volume'][ticker]\n",
    "    summary = {\n",
    "        'Ticker': ticker,\n",
    "        'Total Days': adj_close.count(),\n",
    "        'Average Volume': volume.mean(),\n",
    "        'Total Volume': volume.sum(),\n",
    "    }\n",
    "    summary_table.append(summary)\n",
    "\n",
    "# Convert to DataFrame\n",
    "summary_df = pd.DataFrame(summary_table)\n",
    "\n",
    "# Display the summary table\n",
    "print(summary_df)"
   ],
   "metadata": {
    "collapsed": false,
    "ExecuteTime": {
     "end_time": "2024-12-07T19:41:50.434654500Z",
     "start_time": "2024-12-07T19:41:50.419288600Z"
    }
   },
   "id": "5ffd509316b687ba",
   "execution_count": 14
  },
  {
   "cell_type": "code",
   "outputs": [],
   "source": [],
   "metadata": {
    "collapsed": false
   },
   "id": "39c0975b0e62e506"
  }
 ],
 "metadata": {
  "kernelspec": {
   "display_name": "Python 3",
   "language": "python",
   "name": "python3"
  },
  "language_info": {
   "codemirror_mode": {
    "name": "ipython",
    "version": 2
   },
   "file_extension": ".py",
   "mimetype": "text/x-python",
   "name": "python",
   "nbconvert_exporter": "python",
   "pygments_lexer": "ipython2",
   "version": "2.7.6"
  }
 },
 "nbformat": 4,
 "nbformat_minor": 5
}
